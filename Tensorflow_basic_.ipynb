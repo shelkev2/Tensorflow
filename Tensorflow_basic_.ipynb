{
  "nbformat": 4,
  "nbformat_minor": 0,
  "metadata": {
    "colab": {
      "name": "Tensorflow basic .ipynb",
      "version": "0.3.2",
      "provenance": []
    },
    "kernelspec": {
      "name": "python3",
      "display_name": "Python 3"
    }
  },
  "cells": [
    {
      "metadata": {
        "id": "crrR8dzYQpOy",
        "colab_type": "code",
        "colab": {}
      },
      "cell_type": "code",
      "source": [
        "# TensorFlow is an open-source machine learning library for research and production. TensorFlow offers APIs for beginners and experts \n"
      ],
      "execution_count": 0,
      "outputs": []
    },
    {
      "metadata": {
        "id": "HRPoz4XKQxgu",
        "colab_type": "code",
        "colab": {}
      },
      "cell_type": "code",
      "source": [
        "# What is TensorFlow ?\n",
        "# TensorFlow Code Basics ?\n"
      ],
      "execution_count": 0,
      "outputs": []
    },
    {
      "metadata": {
        "id": "3a0_PFMeRJBL",
        "colab_type": "text"
      },
      "cell_type": "markdown",
      "source": [
        ""
      ]
    },
    {
      "metadata": {
        "id": "9Tpir8Z5Q8iN",
        "colab_type": "code",
        "colab": {
          "base_uri": "https://localhost:8080/",
          "height": 54
        },
        "outputId": "9c2b1f4c-2cf6-4804-9ac6-e1beae324777"
      },
      "cell_type": "code",
      "source": [
        "# What are Tensors?\n",
        "'''\n",
        "In this TensorFlow tutorial, before talking about TensorFlow, let us first understand what are tensors. Tensors are nothing but a de facto \n",
        "for representing the data in deep learning . tensors are just multidimensional arrays, that allows you to represent data having higher dimensions. In general,\n",
        "Deep Learning you deal with high dimensional data sets where dimensions refer to different features present in the data set'''"
      ],
      "execution_count": 3,
      "outputs": [
        {
          "output_type": "execute_result",
          "data": {
            "text/plain": [
              "'\\nIn this TensorFlow tutorial, before talking about TensorFlow, let us first understand what are tensors. Tensors are nothing but a de facto \\nfor representing the data in deep learning . tensors are just multidimensional arrays, that allows you to represent data having higher dimensions. In general,\\nDeep Learning you deal with high dimensional data sets where dimensions refer to different features present in the data set'"
            ]
          },
          "metadata": {
            "tags": []
          },
          "execution_count": 3
        }
      ]
    },
    {
      "metadata": {
        "id": "qhAm0SzpRLMZ",
        "colab_type": "code",
        "colab": {}
      },
      "cell_type": "code",
      "source": [
        "# TensorFlow is made up of two terms – Tensor & Flow:"
      ],
      "execution_count": 0,
      "outputs": []
    },
    {
      "metadata": {
        "id": "KeZVe1ewRpqm",
        "colab_type": "code",
        "colab": {}
      },
      "cell_type": "code",
      "source": [
        "# Basically, the overall process of writing a TensorFlow program involves two steps:\n",
        "\n",
        "# 1 Building a Computational Graph\n",
        "# 2 Running a Computational Graph"
      ],
      "execution_count": 0,
      "outputs": []
    },
    {
      "metadata": {
        "id": "phCbHnAiRvuG",
        "colab_type": "code",
        "colab": {}
      },
      "cell_type": "code",
      "source": [
        "# 1. Building a Computational Graph"
      ],
      "execution_count": 0,
      "outputs": []
    },
    {
      "metadata": {
        "id": "7Sg4M044R0h1",
        "colab_type": "code",
        "colab": {}
      },
      "cell_type": "code",
      "source": [
        "import tensorflow as tf\n",
        "a=tf.constant(5.0)\n",
        "b=tf.constant(6.0)\n",
        "c=a*b\n"
      ],
      "execution_count": 0,
      "outputs": []
    },
    {
      "metadata": {
        "id": "0HhSph7zSIzu",
        "colab_type": "code",
        "colab": {}
      },
      "cell_type": "code",
      "source": [
        "# 2. Running a Computational Graph"
      ],
      "execution_count": 0,
      "outputs": []
    },
    {
      "metadata": {
        "id": "AgGB2i84SKdH",
        "colab_type": "code",
        "colab": {
          "base_uri": "https://localhost:8080/",
          "height": 34
        },
        "outputId": "853978c2-adf8-47f1-e302-2aca57857e82"
      },
      "cell_type": "code",
      "source": [
        "# create session\n",
        "sess=tf.Session()\n",
        "\n",
        "# run the graph within session & store the output to variable\n",
        "output=sess.run(c)\n",
        "\n",
        "#Print the output of node c\n",
        "print(output)\n",
        " \n",
        "#Close the session to free up some resources\n",
        "sess.close()\n"
      ],
      "execution_count": 11,
      "outputs": [
        {
          "output_type": "stream",
          "text": [
            "30.0\n"
          ],
          "name": "stdout"
        }
      ]
    },
    {
      "metadata": {
        "id": "lxt-HV3kSk_j",
        "colab_type": "code",
        "colab": {}
      },
      "cell_type": "code",
      "source": [
        "# Constants, Placeholder and Variables"
      ],
      "execution_count": 0,
      "outputs": []
    },
    {
      "metadata": {
        "id": "bOImqnodSs39",
        "colab_type": "code",
        "colab": {
          "base_uri": "https://localhost:8080/",
          "height": 34
        },
        "outputId": "9ce38bb0-ec6c-4626-f028-109ca70d3db5"
      },
      "cell_type": "code",
      "source": [
        "# Placeholder:\n",
        "'''\n",
        "A TensorFlow constant allows you to store a value but, what if, you want your nodes to take inputs on the run? For this kind of functionality,\n",
        "placeholders are used which allows your graph to take external inputs as parameters. Basically, a placeholder is a promise to provide a value later\n",
        "or during runtime '''\n",
        "\n",
        "import tensorflow as tf\n",
        "\n",
        "#create place holder\n",
        "\n",
        "a = tf. placeholder(tf.float32)\n",
        "b= tf.placeholder(tf.float32)\n",
        "\n",
        "mul=a*b\n",
        "\n",
        "#  Create session object\n",
        "sess=tf.Session()\n",
        "\n",
        "# # Executing mul by passing the values [1, 3] [2, 4] for a and b respectively\n",
        "output = sess.run(mul, {a: [1,3], b: [2, 4]})\n",
        "\n",
        "print('Multiplying a b:', output)"
      ],
      "execution_count": 13,
      "outputs": [
        {
          "output_type": "stream",
          "text": [
            "Multiplying a b: [ 2. 12.]\n"
          ],
          "name": "stdout"
        }
      ]
    },
    {
      "metadata": {
        "id": "V9a4VHzpTbit",
        "colab_type": "code",
        "colab": {
          "base_uri": "https://localhost:8080/",
          "height": 105
        },
        "outputId": "4ce4d66b-5875-47f2-cb40-848ab996143b"
      },
      "cell_type": "code",
      "source": [
        "# variable\n",
        "var = tf.Variable( [0.4], dtype = tf.float32 )       \n",
        "\n",
        "'''\n",
        "In case you have not provided the data type explicitly, TensorFlow will infer the type of the constant/variable from the initialized value.\n",
        "TensorFlow has many of its own data types like tf.float32, tf.int32 etc\n",
        "'''"
      ],
      "execution_count": 14,
      "outputs": [
        {
          "output_type": "stream",
          "text": [
            "WARNING:tensorflow:From /usr/local/lib/python3.6/dist-packages/tensorflow/python/framework/op_def_library.py:263: colocate_with (from tensorflow.python.framework.ops) is deprecated and will be removed in a future version.\n",
            "Instructions for updating:\n",
            "Colocations handled automatically by placer.\n"
          ],
          "name": "stdout"
        },
        {
          "output_type": "execute_result",
          "data": {
            "text/plain": [
              "'\\nIn case you have not provided the data type explicitly, TensorFlow will infer the type of the constant/variable from the initialized value.\\nTensorFlow has many of its own data types like tf.float32, tf.int32 etc\\n'"
            ]
          },
          "metadata": {
            "tags": []
          },
          "execution_count": 14
        }
      ]
    },
    {
      "metadata": {
        "id": "lkX0EmN_T017",
        "colab_type": "code",
        "colab": {}
      },
      "cell_type": "code",
      "source": [
        "''' Constants are initialized when you call tf.constant, and their value can never change. On the contrary, variables are not initialized when you\n",
        "call tf.Variable. To initialize all the variables in a TensorFlow program, you must explicitly call a special operation as shown below:\n",
        "'''\n",
        "\n",
        "init = tf.global_variables_initializer()\n",
        "sess.run(init)"
      ],
      "execution_count": 0,
      "outputs": []
    },
    {
      "metadata": {
        "id": "OQhH0KyYUOd9",
        "colab_type": "code",
        "colab": {}
      },
      "cell_type": "code",
      "source": [
        "# Always remember that a variable must be initialized before a graph is used for the first time"
      ],
      "execution_count": 0,
      "outputs": []
    },
    {
      "metadata": {
        "id": "4Em0hmuCUWXW",
        "colab_type": "code",
        "colab": {
          "base_uri": "https://localhost:8080/",
          "height": 34
        },
        "outputId": "ee6a045b-c233-4c51-9659-5bd378e273da"
      },
      "cell_type": "code",
      "source": [
        "# Linear Regression Model Using TensorFlow\n",
        "\n",
        "'''\n",
        "Dependent or Output Variable (Y)\n",
        "Slope Variable (w)\n",
        "Y – Intercept or Bias (b)\n",
        "Independent or Input Variable (X)\n",
        "\n",
        "'''\n",
        "# Creating variable for parameter slope (W) with initial value as 0.4\n",
        "W = tf.Variable([.4], tf.float32)\n",
        " \n",
        "#Creating variable for parameter bias (b) with initial value as -0.4\n",
        "b = tf.Variable([-0.4], tf.float32)\n",
        " \n",
        "# Creating placeholders for providing input or independent variable, denoted by x\n",
        "x = tf.placeholder(tf.float32)\n",
        " \n",
        "# Equation of Linear Regression\n",
        "linear_model = W * x + b\n",
        " \n",
        "# Initializing all the variables\n",
        "sess = tf.Session()\n",
        "init = tf.global_variables_initializer()\n",
        "sess.run(init)\n",
        " \n",
        "# Running regression model to calculate the output w.r.t. to provided x values\n",
        "print(sess.run(linear_model, {x: [1, 2, 3, 4, 5, 6]}))\n",
        "\n",
        "\n",
        "\n"
      ],
      "execution_count": 23,
      "outputs": [
        {
          "output_type": "stream",
          "text": [
            "[0.        0.4       0.8000001 1.2       1.6       2.       ]\n"
          ],
          "name": "stdout"
        }
      ]
    },
    {
      "metadata": {
        "id": "e4v-4skGV_du",
        "colab_type": "code",
        "colab": {
          "base_uri": "https://localhost:8080/",
          "height": 34
        },
        "outputId": "79ed83ac-b028-42d9-deb7-a8825fb256bf"
      },
      "cell_type": "code",
      "source": [
        "# Loss Function – Model Validation\n",
        "\n",
        "y = tf.placeholder(tf.float32)\n",
        "\n",
        "# calculate sum of error\n",
        "error = linear_model - y\n",
        "squared_errors = tf.square(error)\n",
        "loss = tf.reduce_sum(squared_errors)\n",
        "# output\n",
        "\n",
        "print(sess.run(loss, {x:[1,2,3,4], y:[2,4,6,8]}))"
      ],
      "execution_count": 28,
      "outputs": [
        {
          "output_type": "stream",
          "text": [
            "90.24\n"
          ],
          "name": "stdout"
        }
      ]
    },
    {
      "metadata": {
        "id": "Zy0nGr_kXlaP",
        "colab_type": "code",
        "colab": {
          "base_uri": "https://localhost:8080/",
          "height": 105
        },
        "outputId": "6f90fe1c-c616-426d-b41a-1bc66e383432"
      },
      "cell_type": "code",
      "source": [
        "# tf.train API – Training the Model\n",
        "\n",
        "optimizer = tf.train.GradientDescentOptimizer(0.01)\n",
        " \n",
        "train = optimizer.minimize(loss)\n",
        " \n",
        "for i in range(1000):\n",
        "     sess.run(train, {x:[1, 2, 3, 4], y:[2, 4, 6, 8]})\n",
        "print(sess.run([W, b]))"
      ],
      "execution_count": 29,
      "outputs": [
        {
          "output_type": "stream",
          "text": [
            "WARNING:tensorflow:From /usr/local/lib/python3.6/dist-packages/tensorflow/python/ops/math_ops.py:3066: to_int32 (from tensorflow.python.ops.math_ops) is deprecated and will be removed in a future version.\n",
            "Instructions for updating:\n",
            "Use tf.cast instead.\n",
            "[array([1.9999996], dtype=float32), array([9.853738e-07], dtype=float32)]\n"
          ],
          "name": "stdout"
        }
      ]
    },
    {
      "metadata": {
        "id": "JwxRfs91YJY1",
        "colab_type": "code",
        "colab": {}
      },
      "cell_type": "code",
      "source": [
        ""
      ],
      "execution_count": 0,
      "outputs": []
    }
  ]
}