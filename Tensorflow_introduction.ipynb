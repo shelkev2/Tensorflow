{
  "nbformat": 4,
  "nbformat_minor": 0,
  "metadata": {
    "colab": {
      "name": "Tensorflow introduction.ipynb",
      "version": "0.3.2",
      "provenance": [],
      "collapsed_sections": []
    },
    "kernelspec": {
      "name": "python3",
      "display_name": "Python 3"
    }
  },
  "cells": [
    {
      "metadata": {
        "id": "SsV01asxgJsI",
        "colab_type": "code",
        "colab": {}
      },
      "cell_type": "code",
      "source": [
        "from __future__ import absolute_import\n",
        "from __future__ import division\n",
        "from __future__ import print_function\n",
        "\n",
        "import numpy as np\n",
        "import tensorflow as tf"
      ],
      "execution_count": 0,
      "outputs": []
    },
    {
      "metadata": {
        "id": "65fACeRVhEIf",
        "colab_type": "text"
      },
      "cell_type": "markdown",
      "source": [
        "# Tensor Values\n",
        "The central unit of data in TensorFlow is the tensor. A tensor consists of a set of primitive values shaped into an array of any number of dimensions. A tensor's rank is its number of dimensions, while its shape is a tuple of integers specifying the array's length along each dimension"
      ]
    },
    {
      "metadata": {
        "id": "CnKoP9C8grWF",
        "colab_type": "code",
        "outputId": "c1337ff7-487e-49d2-ffec-c5e99fafab53",
        "colab": {
          "base_uri": "https://localhost:8080/",
          "height": 34
        }
      },
      "cell_type": "code",
      "source": [
        "3. # a rank 0 tensor; a scalar with shape [],\n",
        "[1., 2., 3.] # a rank 1 tensor; a vector with shape [3]\n",
        "[[1., 2., 3.], [4., 5., 6.]] # a rank 2 tensor; a matrix with shape [2, 3]\n",
        "[[[1., 2., 3.]], [[7., 8., 9.]]] # a rank 3 tensor with shape [2, 1, 3]"
      ],
      "execution_count": 0,
      "outputs": [
        {
          "output_type": "execute_result",
          "data": {
            "text/plain": [
              "[[[1.0, 2.0, 3.0]], [[7.0, 8.0, 9.0]]]"
            ]
          },
          "metadata": {
            "tags": []
          },
          "execution_count": 2
        }
      ]
    },
    {
      "metadata": {
        "id": "0GOAr3yEg8HF",
        "colab_type": "text"
      },
      "cell_type": "markdown",
      "source": [
        "# TensorFlow Core Walkthrough\n",
        "You might think of TensorFlow Core programs as consisting of two discrete sections:  \n",
        "\n",
        "1 Building the computational graph (a tf.Graph).  \n",
        "2 Running the computational graph (using a tf.Session   "
      ]
    },
    {
      "metadata": {
        "id": "1qVOIGEig9dA",
        "colab_type": "code",
        "colab": {}
      },
      "cell_type": "code",
      "source": [
        ""
      ],
      "execution_count": 0,
      "outputs": []
    },
    {
      "metadata": {
        "id": "kCLzkCaihj_M",
        "colab_type": "text"
      },
      "cell_type": "markdown",
      "source": [
        " #  1)  Graph\n",
        "A computational graph is a series of TensorFlow operations arranged into a graph. The graph is composed of two types of objects.  \n",
        "\n",
        "tf.Operation (or \"ops\"): The nodes of the graph. Operations describe calculations that consume and produce tensors.   \n",
        "tf.Tensor: The edges in the graph. These represent the values that will flow through the graph. Most TensorFlow functions return tf.Tensors.  "
      ]
    },
    {
      "metadata": {
        "id": "QOk0KmfYhnZf",
        "colab_type": "code",
        "outputId": "f2c888db-14aa-420d-e01c-69871a4dc003",
        "colab": {
          "base_uri": "https://localhost:8080/",
          "height": 68
        }
      },
      "cell_type": "code",
      "source": [
        "a = tf.constant(3.0, dtype=tf.float32)\n",
        "b = tf.constant(4.0) # also tf.float32 implicitly\n",
        "total = a + b\n",
        "print(a)\n",
        "print(b)\n",
        "print(total)"
      ],
      "execution_count": 0,
      "outputs": [
        {
          "output_type": "stream",
          "text": [
            "Tensor(\"Const:0\", shape=(), dtype=float32)\n",
            "Tensor(\"Const_1:0\", shape=(), dtype=float32)\n",
            "Tensor(\"add:0\", shape=(), dtype=float32)\n"
          ],
          "name": "stdout"
        }
      ]
    },
    {
      "metadata": {
        "id": "sQxEzkQbiYiL",
        "colab_type": "text"
      },
      "cell_type": "markdown",
      "source": [
        "Notice that printing the tensors does not output the values 3.0, 4.0, and 7.0 as you might expect. The above statements only build the computation graph\n",
        "\n"
      ]
    },
    {
      "metadata": {
        "id": "UZxixni0htKP",
        "colab_type": "code",
        "colab": {}
      },
      "cell_type": "code",
      "source": [
        ""
      ],
      "execution_count": 0,
      "outputs": []
    },
    {
      "metadata": {
        "id": "rHLvXvoSjK75",
        "colab_type": "text"
      },
      "cell_type": "markdown",
      "source": [
        "# 2 ) TensorBoard\n",
        "TensorFlow provides a utility called TensorBoard. One of TensorBoard's many capabilities is visualizing a computation graph. You can easily do this with a few simple commands.\n",
        "\n",
        "First you save the computation graph to a TensorBoard summary file as follows:"
      ]
    },
    {
      "metadata": {
        "id": "geE7cA82jNW7",
        "colab_type": "code",
        "colab": {}
      },
      "cell_type": "code",
      "source": [
        "writer = tf.summary.FileWriter('.')\n",
        "writer.add_graph(tf.get_default_graph())\n",
        "writer.flush()\n",
        "\n"
      ],
      "execution_count": 0,
      "outputs": []
    },
    {
      "metadata": {
        "id": "nw5RHZGajhqO",
        "colab_type": "text"
      },
      "cell_type": "markdown",
      "source": [
        "'''\n",
        "This will produce an event file in the current directory with a name in the following format:\n",
        "\n",
        "events.out.tfevents.{timestamp}.{hostname}\n",
        "\n",
        "Now, in a new terminal, launch TensorBoard with the following shell command:\n",
        "\n",
        "tensorboard --logdir .\n",
        "'''\n",
        "\n",
        "# 3) Session\n",
        "To evaluate tensors, instantiate a tf.Session object, informally known as a session. A session encapsulates the state of the TensorFlow runtime, and runs TensorFlow operations. If a tf.Graph is like a .py file, a tf.Session is like the python executable.\n",
        "\n",
        "The following code creates a tf.Session object and then invokes its run method to evaluate the total tensor we created above:"
      ]
    },
    {
      "metadata": {
        "id": "_K5Csljjjijg",
        "colab_type": "code",
        "outputId": "c5de61c3-6704-4a22-c8f6-fe82985a0b3b",
        "colab": {
          "base_uri": "https://localhost:8080/",
          "height": 34
        }
      },
      "cell_type": "code",
      "source": [
        "sess = tf.Session()\n",
        "print(sess.run(total))"
      ],
      "execution_count": 0,
      "outputs": [
        {
          "output_type": "stream",
          "text": [
            "7.0\n"
          ],
          "name": "stdout"
        }
      ]
    },
    {
      "metadata": {
        "id": "G71zrGEUkH4k",
        "colab_type": "text"
      },
      "cell_type": "markdown",
      "source": [
        "You can pass multiple tensors to tf.Session.run. The run method transparently handles any combination of \n",
        "#tuples or  \n",
        "#dictionaries"
      ]
    },
    {
      "metadata": {
        "id": "yWdQMFbujxaV",
        "colab_type": "code",
        "outputId": "34e7e1ed-4ef7-49a9-9697-dc08e1e7db5a",
        "colab": {
          "base_uri": "https://localhost:8080/",
          "height": 34
        }
      },
      "cell_type": "code",
      "source": [
        "print(sess.run({'ab':(a, b), 'total':total}))"
      ],
      "execution_count": 0,
      "outputs": [
        {
          "output_type": "stream",
          "text": [
            "{'ab': (3.0, 4.0), 'total': 7.0}\n"
          ],
          "name": "stdout"
        }
      ]
    },
    {
      "metadata": {
        "id": "V8mxDuVvkqD-",
        "colab_type": "text"
      },
      "cell_type": "markdown",
      "source": [
        "During a call to tf.Session.run any tf.Tensor only has a single value. For example, the following code calls tf.random_uniform to produce a tf.Tensor that generates a random 3-element vector (with values in [0,1)):"
      ]
    },
    {
      "metadata": {
        "id": "X4WqZwBdkb22",
        "colab_type": "code",
        "outputId": "a92820db-ffa6-49ef-d872-d78c185f5ee9",
        "colab": {
          "base_uri": "https://localhost:8080/",
          "height": 68
        }
      },
      "cell_type": "code",
      "source": [
        "vec = tf.random_uniform(shape=(3,))\n",
        "out1 = vec + 1\n",
        "out2 = vec + 2\n",
        "print(sess.run(vec))\n",
        "print(sess.run(vec))\n",
        "print(sess.run((out1, out2)))"
      ],
      "execution_count": 0,
      "outputs": [
        {
          "output_type": "stream",
          "text": [
            "[0.05108666 0.9311749  0.6947621 ]\n",
            "[0.19103205 0.08454764 0.65318286]\n",
            "(array([1.3837353, 1.9445282, 1.065348 ], dtype=float32), array([2.3837352, 2.944528 , 2.0653481], dtype=float32))\n"
          ],
          "name": "stdout"
        }
      ]
    },
    {
      "metadata": {
        "id": "qag1Nvy7lGSd",
        "colab_type": "text"
      },
      "cell_type": "markdown",
      "source": [
        "# 4)Feeding or placeholder\n",
        "As it stands, this graph is not especially interesting because it always produces a constant result. A graph can be parameterized to accept external inputs, known as placeholders. A placeholder is a promise to provide a value later, like a function argument."
      ]
    },
    {
      "metadata": {
        "id": "vBfWAXqnkvQX",
        "colab_type": "code",
        "colab": {}
      },
      "cell_type": "code",
      "source": [
        "x = tf.placeholder(tf.float32)\n",
        "y = tf.placeholder(tf.float32)\n",
        "z = x + y"
      ],
      "execution_count": 0,
      "outputs": []
    },
    {
      "metadata": {
        "id": "h14bPEE0lU7M",
        "colab_type": "text"
      },
      "cell_type": "markdown",
      "source": [
        "The preceding three lines are a bit like a function in which we define two input parameters (x and y) and then an operation on them. We can evaluate this graph with multiple inputs by using the\n",
        "#feed_dict   \n",
        "argument of the tf.Session.run method to feed concrete values to the placeholders:"
      ]
    },
    {
      "metadata": {
        "id": "HhoKK2bmlLmk",
        "colab_type": "code",
        "outputId": "17b0d7f4-801b-4917-d6f8-e8a6493ad427",
        "colab": {
          "base_uri": "https://localhost:8080/",
          "height": 51
        }
      },
      "cell_type": "code",
      "source": [
        "print(sess.run(z, feed_dict={x: 3, y: 4.5}))\n",
        "print(sess.run(z, feed_dict={x: [1, 3], y: [2, 4]}))"
      ],
      "execution_count": 0,
      "outputs": [
        {
          "output_type": "stream",
          "text": [
            "7.5\n",
            "[3. 7.]\n"
          ],
          "name": "stdout"
        }
      ]
    },
    {
      "metadata": {
        "id": "ci6zlbZWlyjV",
        "colab_type": "text"
      },
      "cell_type": "markdown",
      "source": [
        "# Datasets\n",
        "Placeholders work for simple experiments, but tf.data are the preferred method of streaming data into a model.\n",
        "\n",
        "To get a runnable tf.Tensor from a Dataset you must first convert it to a tf.data.Iterator, and then call the Iterator's tf.data.Iterator.get_next method.\n",
        "\n",
        "The simplest way to create an Iterator is with the tf.data.Dataset.make_one_shot_iterator method. For example, in the following code the next_item tensor will return a row from the my_data array on each run call:"
      ]
    },
    {
      "metadata": {
        "id": "ytULZjHGlhwu",
        "colab_type": "code",
        "colab": {}
      },
      "cell_type": "code",
      "source": [
        "my_data = [\n",
        "    [0, 1,],\n",
        "    [2, 3,],\n",
        "    [4, 5,],\n",
        "    [6, 7,],\n",
        "]\n",
        "slices = tf.data.Dataset.from_tensor_slices(my_data)\n",
        "next_item = slices.make_one_shot_iterator().get_next()"
      ],
      "execution_count": 0,
      "outputs": []
    },
    {
      "metadata": {
        "id": "A-qtpeaNmfIH",
        "colab_type": "text"
      },
      "cell_type": "markdown",
      "source": [
        "Reaching the end of the data stream causes Dataset to throw an tf.errors.OutOfRangeError. For example, the following code reads the next_item until there is no more data to read:\n",
        "\n"
      ]
    },
    {
      "metadata": {
        "id": "CI-ajdEWmHFY",
        "colab_type": "code",
        "outputId": "1f927808-ac56-4c96-aec4-60675d24430d",
        "colab": {
          "base_uri": "https://localhost:8080/",
          "height": 85
        }
      },
      "cell_type": "code",
      "source": [
        "while True:\n",
        "  try:\n",
        "    print(sess.run(next_item))\n",
        "  except tf.errors.OutOfRangeError:\n",
        "    break"
      ],
      "execution_count": 0,
      "outputs": [
        {
          "output_type": "stream",
          "text": [
            "[0 1]\n",
            "[2 3]\n",
            "[4 5]\n",
            "[6 7]\n"
          ],
          "name": "stdout"
        }
      ]
    },
    {
      "metadata": {
        "id": "gIFGhJchmhfl",
        "colab_type": "code",
        "outputId": "c1f1fb92-bba5-4c29-9e5b-041da1ee6723",
        "colab": {
          "base_uri": "https://localhost:8080/",
          "height": 258
        }
      },
      "cell_type": "code",
      "source": [
        "# If the Dataset depends on stateful operations you may need to initialize the iterator before using it, as shown below:\n",
        "\n",
        "r = tf.random_normal([10,3])\n",
        "dataset = tf.data.Dataset.from_tensor_slices(r)\n",
        "iterator = dataset.make_initializable_iterator()\n",
        "next_row = iterator.get_next()\n",
        "\n",
        "sess.run(iterator.initializer)\n",
        "while True:\n",
        "  try:\n",
        "    print(sess.run(next_row))\n",
        "  except tf.errors.OutOfRangeError:\n",
        "    break"
      ],
      "execution_count": 0,
      "outputs": [
        {
          "output_type": "stream",
          "text": [
            "WARNING:tensorflow:From /usr/local/lib/python3.6/dist-packages/tensorflow/python/data/ops/dataset_ops.py:1419: colocate_with (from tensorflow.python.framework.ops) is deprecated and will be removed in a future version.\n",
            "Instructions for updating:\n",
            "Colocations handled automatically by placer.\n",
            "[ 1.5601076  1.2840494 -0.7154319]\n",
            "[ 1.4055388  -0.88288075 -1.4299309 ]\n",
            "[ 1.0941852   1.277455   -0.10627846]\n",
            "[ 1.129074   -0.58704346  0.32764482]\n",
            "[-1.95634   -1.0096155  1.2705725]\n",
            "[ 0.06963531 -1.1843501  -0.17169076]\n",
            "[-0.8860986   0.92886597  1.0618613 ]\n",
            "[0.09516091 0.19548108 1.0239028 ]\n",
            "[ 0.20095097 -0.02072884  0.69004965]\n",
            "[-0.15319447 -2.0367012  -2.371966  ]\n"
          ],
          "name": "stdout"
        }
      ]
    },
    {
      "metadata": {
        "id": "jQKitMvYmym3",
        "colab_type": "text"
      },
      "cell_type": "markdown",
      "source": [
        "# Layers\n",
        "A trainable model must modify the values in the graph to get new outputs with the same input. tf.layers are the preferred way to add trainable parameters to a graph.\n",
        "\n",
        "Layers package together both the variables and the operations that act on them. For example a densely-connected layer performs a weighted sum across all inputs for each output and applies an optional activation function. The connection weights and biases are managed by the layer object.\n",
        "\n",
        "1))))))Creating Layers     \n",
        "The following code creates a \"tf.layers.Dense \"layer that takes a batch of input vectors, and produces a single output value for each. To apply a layer to an input, call the layer as if it were a function. For example:"
      ]
    },
    {
      "metadata": {
        "id": "spso_sXgmo8H",
        "colab_type": "code",
        "colab": {}
      },
      "cell_type": "code",
      "source": [
        "x = tf.placeholder(tf.float32, shape=[None, 3])\n",
        "linear_model = tf.layers.Dense(units=1)\n",
        "y = linear_model(x)"
      ],
      "execution_count": 0,
      "outputs": []
    },
    {
      "metadata": {
        "id": "By8-GhWYnTMI",
        "colab_type": "text"
      },
      "cell_type": "markdown",
      "source": [
        "2)))))Initializing Layers  \n",
        "The layer contains variables that must be initialized before they can be used. While it is possible to initialize variables individually, you can easily initialize all the variables in a TensorFlow graph as follows:\n",
        "\n"
      ]
    },
    {
      "metadata": {
        "id": "v9lakVIRnLk2",
        "colab_type": "code",
        "colab": {}
      },
      "cell_type": "code",
      "source": [
        "init = tf.global_variables_initializer()\n",
        "sess.run(init)"
      ],
      "execution_count": 0,
      "outputs": []
    },
    {
      "metadata": {
        "id": "N1eg4ZMmne9o",
        "colab_type": "text"
      },
      "cell_type": "markdown",
      "source": [
        "3))))))Executing Layers     \n",
        "Now that the layer is initialized, we can evaluate the linear_model's output tensor as we would any other tensor. For example, the following code:\n",
        "\n"
      ]
    },
    {
      "metadata": {
        "id": "It1GrI14nVY3",
        "colab_type": "code",
        "outputId": "f9acdbae-699a-4866-ee19-c9c3fbe7b64c",
        "colab": {
          "base_uri": "https://localhost:8080/",
          "height": 51
        }
      },
      "cell_type": "code",
      "source": [
        "print(sess.run(y, {x: [[1, 2, 3],[4, 5, 6]]}))"
      ],
      "execution_count": 0,
      "outputs": [
        {
          "output_type": "stream",
          "text": [
            "[[-2.4294057]\n",
            " [-3.7012608]]\n"
          ],
          "name": "stdout"
        }
      ]
    },
    {
      "metadata": {
        "id": "lGcufP5JnxXP",
        "colab_type": "text"
      },
      "cell_type": "markdown",
      "source": [
        "4))))))))))Layer Function shortcuts   \n",
        "For each layer class (like tf.layers.Dense) TensorFlow also supplies a shortcut function (like tf.layers.dense). The only difference is that the shortcut function versions create and run the layer in a single call. For example, the following code is equivalent to the earlier version:\n",
        "\n"
      ]
    },
    {
      "metadata": {
        "id": "1jdZV3fFnkEs",
        "colab_type": "code",
        "outputId": "6d9b71aa-f653-4190-81c9-5d99431758b5",
        "colab": {
          "base_uri": "https://localhost:8080/",
          "height": 51
        }
      },
      "cell_type": "code",
      "source": [
        "x = tf.placeholder(tf.float32, shape=[None, 3])\n",
        "y = tf.layers.dense(x, units=1)\n",
        "\n",
        "init = tf.global_variables_initializer()\n",
        "sess.run(init)\n",
        "\n",
        "print(sess.run(y, {x: [[1, 2, 3], [4, 5, 6]]}))"
      ],
      "execution_count": 0,
      "outputs": [
        {
          "output_type": "stream",
          "text": [
            "[[ 4.2711945]\n",
            " [10.986111 ]]\n"
          ],
          "name": "stdout"
        }
      ]
    },
    {
      "metadata": {
        "id": "WExGY9vwohoC",
        "colab_type": "text"
      },
      "cell_type": "markdown",
      "source": [
        "# Feature columns\n",
        "The easiest way to experiment with feature columns is using the tf.feature_column.input_layer function. This function only accepts dense columns as inputs, so to view the result of a categorical column you must wrap it in an tf.feature_column.indicator_column."
      ]
    },
    {
      "metadata": {
        "id": "QDcR9v6Dn2vA",
        "colab_type": "code",
        "colab": {}
      },
      "cell_type": "code",
      "source": [
        "features = {\n",
        "    'sales' : [[5], [10], [8], [9]],\n",
        "    'department': ['sports', 'sports', 'gardening', 'gardening']}\n",
        "\n",
        "department_column = tf.feature_column.categorical_column_with_vocabulary_list(\n",
        "        'department', ['sports', 'gardening'])\n",
        "department_column = tf.feature_column.indicator_column(department_column)\n",
        "\n",
        "columns = [\n",
        "    tf.feature_column.numeric_column('sales'),\n",
        "    department_column\n",
        "]\n",
        "\n",
        "inputs = tf.feature_column.input_layer(features, columns)"
      ],
      "execution_count": 0,
      "outputs": []
    },
    {
      "metadata": {
        "id": "MUbhZTwto6P7",
        "colab_type": "text"
      },
      "cell_type": "markdown",
      "source": [
        "Running the inputs tensor will parse the features into a batch of vectors.\n",
        "\n",
        "Feature columns can have internal state, like layers, so they often need to be initialized. Categorical columns use tf.contrib.lookup internally and these require a separate initialization op, tf.tables_initializer."
      ]
    },
    {
      "metadata": {
        "id": "7I0mxwA8on9G",
        "colab_type": "code",
        "outputId": "4cb809c0-810b-4eb7-c091-c58a1851993b",
        "colab": {
          "base_uri": "https://localhost:8080/",
          "height": 34
        }
      },
      "cell_type": "code",
      "source": [
        "var_init = tf.global_variables_initializer()\n",
        "table_init = tf.tables_initializer()\n",
        "sess = tf.Session()\n",
        "sess.run((var_init, table_init))"
      ],
      "execution_count": 0,
      "outputs": [
        {
          "output_type": "execute_result",
          "data": {
            "text/plain": [
              "(None, None)"
            ]
          },
          "metadata": {
            "tags": []
          },
          "execution_count": 23
        }
      ]
    },
    {
      "metadata": {
        "id": "KlrMCAOQo9wf",
        "colab_type": "code",
        "outputId": "ae5bf267-1490-4efb-cf5b-23020c200d8f",
        "colab": {
          "base_uri": "https://localhost:8080/",
          "height": 85
        }
      },
      "cell_type": "code",
      "source": [
        "# Once the internal state has been initialized you can run inputs like any other tf.Tensor:\n",
        "\n",
        "print(sess.run(inputs))"
      ],
      "execution_count": 0,
      "outputs": [
        {
          "output_type": "stream",
          "text": [
            "[[ 1.  0.  5.]\n",
            " [ 1.  0. 10.]\n",
            " [ 0.  1.  8.]\n",
            " [ 0.  1.  9.]]\n"
          ],
          "name": "stdout"
        }
      ]
    },
    {
      "metadata": {
        "id": "HiU69FrVpIa4",
        "colab_type": "text"
      },
      "cell_type": "markdown",
      "source": [
        "# Training\n",
        "Now that we are familiar with the basics of core TensorFlow, let's train a small regression model manually."
      ]
    },
    {
      "metadata": {
        "id": "dVUD7XtxpBfM",
        "colab_type": "code",
        "colab": {}
      },
      "cell_type": "code",
      "source": [
        "# Define the data\n",
        "# First let's define some inputs, x, and the expected output for each input, y_true:"
      ],
      "execution_count": 0,
      "outputs": []
    },
    {
      "metadata": {
        "id": "6fG7HN1FpRHl",
        "colab_type": "code",
        "colab": {}
      },
      "cell_type": "code",
      "source": [
        "x = tf.constant([[1], [2], [3], [4]], dtype=tf.float32)\n",
        "y_true = tf.constant([[0], [-1], [-2], [-3]], dtype=tf.float32)"
      ],
      "execution_count": 0,
      "outputs": []
    },
    {
      "metadata": {
        "id": "ghZLlHK7pTth",
        "colab_type": "code",
        "colab": {}
      },
      "cell_type": "code",
      "source": [
        "# Define the model\n",
        "# Next, build a simple linear model, with 1 output:"
      ],
      "execution_count": 0,
      "outputs": []
    },
    {
      "metadata": {
        "id": "haInN_FDpYjU",
        "colab_type": "code",
        "colab": {}
      },
      "cell_type": "code",
      "source": [
        "linear_model = tf.layers.Dense(units=1)\n",
        "\n",
        "y_pred = linear_model(x)"
      ],
      "execution_count": 0,
      "outputs": []
    },
    {
      "metadata": {
        "id": "5Uzr_iFupiHB",
        "colab_type": "text"
      },
      "cell_type": "markdown",
      "source": [
        " evaluate the predictions as follows:"
      ]
    },
    {
      "metadata": {
        "id": "toiLaZbYpdcY",
        "colab_type": "code",
        "outputId": "9eb192ad-d249-435b-e4a5-22ee30c7950e",
        "colab": {
          "base_uri": "https://localhost:8080/",
          "height": 85
        }
      },
      "cell_type": "code",
      "source": [
        "sess = tf.Session()\n",
        "init = tf.global_variables_initializer()\n",
        "sess.run(init)\n",
        "\n",
        "print(sess.run(y_pred))"
      ],
      "execution_count": 0,
      "outputs": [
        {
          "output_type": "stream",
          "text": [
            "[[-1.022412]\n",
            " [-2.044824]\n",
            " [-3.067236]\n",
            " [-4.089648]]\n"
          ],
          "name": "stdout"
        }
      ]
    },
    {
      "metadata": {
        "id": "J3woGHH2pp4H",
        "colab_type": "code",
        "colab": {}
      },
      "cell_type": "code",
      "source": [
        "# Loss\n",
        "#To optimize a model, you first need to define the loss. We'll use the mean square error, a standard loss for regression problems.\n",
        "\n",
        "#While you could do this manually with lower level math operations, the tf.losses module provides a set of common loss functions.\n",
        "#You can use it to calculate the mean square error as follows:"
      ],
      "execution_count": 0,
      "outputs": []
    },
    {
      "metadata": {
        "id": "91fVdiBOp07j",
        "colab_type": "code",
        "outputId": "32781ae8-92e6-4b43-bfb5-030870dce803",
        "colab": {
          "base_uri": "https://localhost:8080/",
          "height": 34
        }
      },
      "cell_type": "code",
      "source": [
        "loss = tf.losses.mean_squared_error(labels=y_true, predictions=y_pred)\n",
        "\n",
        "print(sess.run(loss))"
      ],
      "execution_count": 0,
      "outputs": [
        {
          "output_type": "stream",
          "text": [
            "1.115827\n"
          ],
          "name": "stdout"
        }
      ]
    },
    {
      "metadata": {
        "id": "JDU8zmsVqDMg",
        "colab_type": "text"
      },
      "cell_type": "markdown",
      "source": [
        "Training   \n",
        "TensorFlow provides optimizers implementing standard optimization algorithms. These are implemented as sub-classes of tf.train.Optimizer. They incrementally change each variable in order to minimize the loss. The simplest optimization algorithm is gradient descent, implemented by tf.train.GradientDescentOptimizer. It modifies each variable according to the magnitude of the derivative of loss with respect to that variable"
      ]
    },
    {
      "metadata": {
        "id": "LGRT_X2lp6BC",
        "colab_type": "code",
        "colab": {}
      },
      "cell_type": "code",
      "source": [
        "optimizer = tf.train.GradientDescentOptimizer(0.01)\n",
        "train = optimizer.minimize(loss)"
      ],
      "execution_count": 0,
      "outputs": []
    },
    {
      "metadata": {
        "id": "jdlzspmgqG2i",
        "colab_type": "code",
        "outputId": "fdd77246-aa5d-4a63-aade-b18dc2517ba8",
        "colab": {
          "base_uri": "https://localhost:8080/",
          "height": 187
        }
      },
      "cell_type": "code",
      "source": [
        "#This code builds all the graph components necessary for the optimization, and returns a training operation. When run, the training op will update variables in the graph. You might run it as follows:\n",
        "\n",
        "for i in range(10):\n",
        "  _, loss_value = sess.run((train, loss))\n",
        "  print(loss_value)"
      ],
      "execution_count": 0,
      "outputs": [
        {
          "output_type": "stream",
          "text": [
            "0.07254096\n",
            "0.07210727\n",
            "0.071676135\n",
            "0.071247585\n",
            "0.07082162\n",
            "0.07039819\n",
            "0.06997729\n",
            "0.069558896\n",
            "0.06914302\n",
            "0.06872963\n"
          ],
          "name": "stdout"
        }
      ]
    },
    {
      "metadata": {
        "id": "ieNxS9BEqKFB",
        "colab_type": "code",
        "outputId": "b0f7ad39-b790-4645-95fa-c8e91837f04d",
        "colab": {
          "base_uri": "https://localhost:8080/",
          "height": 255
        }
      },
      "cell_type": "code",
      "source": [
        "#Complete program\n",
        "\n",
        "x = tf.constant([[1], [2], [3], [4]], dtype=tf.float32)\n",
        "y_true = tf.constant([[0], [-1], [-2], [-3]], dtype=tf.float32)\n",
        "\n",
        "linear_model = tf.layers.Dense(units=1)\n",
        "\n",
        "y_pred = linear_model(x)\n",
        "loss = tf.losses.mean_squared_error(labels=y_true, predictions=y_pred)\n",
        "\n",
        "optimizer = tf.train.GradientDescentOptimizer(0.01)\n",
        "train = optimizer.minimize(loss)\n",
        "\n",
        "init = tf.global_variables_initializer()\n",
        "\n",
        "sess = tf.Session()\n",
        "sess.run(init)\n",
        "for i in range(10):\n",
        "  _, loss_value = sess.run((train, loss))\n",
        "  print(loss_value)\n",
        "\n",
        "print(sess.run(y_pred))"
      ],
      "execution_count": 0,
      "outputs": [
        {
          "output_type": "stream",
          "text": [
            "1.435248\n",
            "1.0340528\n",
            "0.75544333\n",
            "0.5618957\n",
            "0.42737144\n",
            "0.33380374\n",
            "0.2686564\n",
            "0.2232306\n",
            "0.19149043\n",
            "0.16924791\n",
            "[[-0.63954204]\n",
            " [-1.4118063 ]\n",
            " [-2.1840706 ]\n",
            " [-2.9563348 ]]\n"
          ],
          "name": "stdout"
        }
      ]
    },
    {
      "metadata": {
        "id": "B2ChdLi-qYlP",
        "colab_type": "code",
        "colab": {}
      },
      "cell_type": "code",
      "source": [
        ""
      ],
      "execution_count": 0,
      "outputs": []
    }
  ]
}